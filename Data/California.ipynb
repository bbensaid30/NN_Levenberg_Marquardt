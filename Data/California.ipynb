{
 "cells": [
  {
   "cell_type": "code",
   "execution_count": 1,
   "id": "3f8b826f-1888-418f-9042-ec23911e4691",
   "metadata": {},
   "outputs": [],
   "source": [
    "import pandas as pd\n",
    "import matplotlib.pyplot as plt\n",
    "import seaborn as sns\n",
    "import numpy as np"
   ]
  },
  {
   "cell_type": "code",
   "execution_count": 2,
   "id": "dcb4e3a9-05d3-47ed-8743-5a397cfaf5eb",
   "metadata": {},
   "outputs": [],
   "source": [
    "data = pd.read_csv(\"housing.csv\")"
   ]
  },
  {
   "cell_type": "code",
   "execution_count": 3,
   "id": "cf2a4b78-65e3-42ae-9c41-592c021c64c4",
   "metadata": {},
   "outputs": [
    {
     "data": {
      "text/html": [
       "<div>\n",
       "<style scoped>\n",
       "    .dataframe tbody tr th:only-of-type {\n",
       "        vertical-align: middle;\n",
       "    }\n",
       "\n",
       "    .dataframe tbody tr th {\n",
       "        vertical-align: top;\n",
       "    }\n",
       "\n",
       "    .dataframe thead th {\n",
       "        text-align: right;\n",
       "    }\n",
       "</style>\n",
       "<table border=\"1\" class=\"dataframe\">\n",
       "  <thead>\n",
       "    <tr style=\"text-align: right;\">\n",
       "      <th></th>\n",
       "      <th>longitude</th>\n",
       "      <th>latitude</th>\n",
       "      <th>housing_median_age</th>\n",
       "      <th>total_rooms</th>\n",
       "      <th>total_bedrooms</th>\n",
       "      <th>population</th>\n",
       "      <th>households</th>\n",
       "      <th>median_income</th>\n",
       "      <th>median_house_value</th>\n",
       "      <th>ocean_proximity</th>\n",
       "    </tr>\n",
       "  </thead>\n",
       "  <tbody>\n",
       "    <tr>\n",
       "      <th>0</th>\n",
       "      <td>-122.23</td>\n",
       "      <td>37.88</td>\n",
       "      <td>41.0</td>\n",
       "      <td>880.0</td>\n",
       "      <td>129.0</td>\n",
       "      <td>322.0</td>\n",
       "      <td>126.0</td>\n",
       "      <td>8.3252</td>\n",
       "      <td>452600.0</td>\n",
       "      <td>NEAR BAY</td>\n",
       "    </tr>\n",
       "    <tr>\n",
       "      <th>1</th>\n",
       "      <td>-122.22</td>\n",
       "      <td>37.86</td>\n",
       "      <td>21.0</td>\n",
       "      <td>7099.0</td>\n",
       "      <td>1106.0</td>\n",
       "      <td>2401.0</td>\n",
       "      <td>1138.0</td>\n",
       "      <td>8.3014</td>\n",
       "      <td>358500.0</td>\n",
       "      <td>NEAR BAY</td>\n",
       "    </tr>\n",
       "    <tr>\n",
       "      <th>2</th>\n",
       "      <td>-122.24</td>\n",
       "      <td>37.85</td>\n",
       "      <td>52.0</td>\n",
       "      <td>1467.0</td>\n",
       "      <td>190.0</td>\n",
       "      <td>496.0</td>\n",
       "      <td>177.0</td>\n",
       "      <td>7.2574</td>\n",
       "      <td>352100.0</td>\n",
       "      <td>NEAR BAY</td>\n",
       "    </tr>\n",
       "    <tr>\n",
       "      <th>3</th>\n",
       "      <td>-122.25</td>\n",
       "      <td>37.85</td>\n",
       "      <td>52.0</td>\n",
       "      <td>1274.0</td>\n",
       "      <td>235.0</td>\n",
       "      <td>558.0</td>\n",
       "      <td>219.0</td>\n",
       "      <td>5.6431</td>\n",
       "      <td>341300.0</td>\n",
       "      <td>NEAR BAY</td>\n",
       "    </tr>\n",
       "    <tr>\n",
       "      <th>4</th>\n",
       "      <td>-122.25</td>\n",
       "      <td>37.85</td>\n",
       "      <td>52.0</td>\n",
       "      <td>1627.0</td>\n",
       "      <td>280.0</td>\n",
       "      <td>565.0</td>\n",
       "      <td>259.0</td>\n",
       "      <td>3.8462</td>\n",
       "      <td>342200.0</td>\n",
       "      <td>NEAR BAY</td>\n",
       "    </tr>\n",
       "  </tbody>\n",
       "</table>\n",
       "</div>"
      ],
      "text/plain": [
       "   longitude  latitude  housing_median_age  total_rooms  total_bedrooms  \\\n",
       "0    -122.23     37.88                41.0        880.0           129.0   \n",
       "1    -122.22     37.86                21.0       7099.0          1106.0   \n",
       "2    -122.24     37.85                52.0       1467.0           190.0   \n",
       "3    -122.25     37.85                52.0       1274.0           235.0   \n",
       "4    -122.25     37.85                52.0       1627.0           280.0   \n",
       "\n",
       "   population  households  median_income  median_house_value ocean_proximity  \n",
       "0       322.0       126.0         8.3252            452600.0        NEAR BAY  \n",
       "1      2401.0      1138.0         8.3014            358500.0        NEAR BAY  \n",
       "2       496.0       177.0         7.2574            352100.0        NEAR BAY  \n",
       "3       558.0       219.0         5.6431            341300.0        NEAR BAY  \n",
       "4       565.0       259.0         3.8462            342200.0        NEAR BAY  "
      ]
     },
     "execution_count": 3,
     "metadata": {},
     "output_type": "execute_result"
    }
   ],
   "source": [
    "data.head()"
   ]
  },
  {
   "cell_type": "code",
   "execution_count": 4,
   "id": "fa02bc61-9944-4ce2-a72c-ff2f06d01f0d",
   "metadata": {},
   "outputs": [
    {
     "name": "stdout",
     "output_type": "stream",
     "text": [
      "<class 'pandas.core.frame.DataFrame'>\n",
      "RangeIndex: 20640 entries, 0 to 20639\n",
      "Data columns (total 10 columns):\n",
      " #   Column              Non-Null Count  Dtype  \n",
      "---  ------              --------------  -----  \n",
      " 0   longitude           20640 non-null  float64\n",
      " 1   latitude            20640 non-null  float64\n",
      " 2   housing_median_age  20640 non-null  float64\n",
      " 3   total_rooms         20640 non-null  float64\n",
      " 4   total_bedrooms      20433 non-null  float64\n",
      " 5   population          20640 non-null  float64\n",
      " 6   households          20640 non-null  float64\n",
      " 7   median_income       20640 non-null  float64\n",
      " 8   median_house_value  20640 non-null  float64\n",
      " 9   ocean_proximity     20640 non-null  object \n",
      "dtypes: float64(9), object(1)\n",
      "memory usage: 1.6+ MB\n"
     ]
    }
   ],
   "source": [
    "data.info()"
   ]
  },
  {
   "cell_type": "code",
   "execution_count": 5,
   "id": "117de787-62b9-4add-a97d-75c1bf67a3da",
   "metadata": {},
   "outputs": [
    {
     "data": {
      "text/html": [
       "<div>\n",
       "<style scoped>\n",
       "    .dataframe tbody tr th:only-of-type {\n",
       "        vertical-align: middle;\n",
       "    }\n",
       "\n",
       "    .dataframe tbody tr th {\n",
       "        vertical-align: top;\n",
       "    }\n",
       "\n",
       "    .dataframe thead th {\n",
       "        text-align: right;\n",
       "    }\n",
       "</style>\n",
       "<table border=\"1\" class=\"dataframe\">\n",
       "  <thead>\n",
       "    <tr style=\"text-align: right;\">\n",
       "      <th></th>\n",
       "      <th>longitude</th>\n",
       "      <th>latitude</th>\n",
       "      <th>housing_median_age</th>\n",
       "      <th>total_rooms</th>\n",
       "      <th>total_bedrooms</th>\n",
       "      <th>population</th>\n",
       "      <th>households</th>\n",
       "      <th>median_income</th>\n",
       "      <th>median_house_value</th>\n",
       "    </tr>\n",
       "  </thead>\n",
       "  <tbody>\n",
       "    <tr>\n",
       "      <th>count</th>\n",
       "      <td>20640.000000</td>\n",
       "      <td>20640.000000</td>\n",
       "      <td>20640.000000</td>\n",
       "      <td>20640.000000</td>\n",
       "      <td>20433.000000</td>\n",
       "      <td>20640.000000</td>\n",
       "      <td>20640.000000</td>\n",
       "      <td>20640.000000</td>\n",
       "      <td>20640.000000</td>\n",
       "    </tr>\n",
       "    <tr>\n",
       "      <th>mean</th>\n",
       "      <td>-119.569704</td>\n",
       "      <td>35.631861</td>\n",
       "      <td>28.639486</td>\n",
       "      <td>2635.763081</td>\n",
       "      <td>537.870553</td>\n",
       "      <td>1425.476744</td>\n",
       "      <td>499.539680</td>\n",
       "      <td>3.870671</td>\n",
       "      <td>206855.816909</td>\n",
       "    </tr>\n",
       "    <tr>\n",
       "      <th>std</th>\n",
       "      <td>2.003532</td>\n",
       "      <td>2.135952</td>\n",
       "      <td>12.585558</td>\n",
       "      <td>2181.615252</td>\n",
       "      <td>421.385070</td>\n",
       "      <td>1132.462122</td>\n",
       "      <td>382.329753</td>\n",
       "      <td>1.899822</td>\n",
       "      <td>115395.615874</td>\n",
       "    </tr>\n",
       "    <tr>\n",
       "      <th>min</th>\n",
       "      <td>-124.350000</td>\n",
       "      <td>32.540000</td>\n",
       "      <td>1.000000</td>\n",
       "      <td>2.000000</td>\n",
       "      <td>1.000000</td>\n",
       "      <td>3.000000</td>\n",
       "      <td>1.000000</td>\n",
       "      <td>0.499900</td>\n",
       "      <td>14999.000000</td>\n",
       "    </tr>\n",
       "    <tr>\n",
       "      <th>25%</th>\n",
       "      <td>-121.800000</td>\n",
       "      <td>33.930000</td>\n",
       "      <td>18.000000</td>\n",
       "      <td>1447.750000</td>\n",
       "      <td>296.000000</td>\n",
       "      <td>787.000000</td>\n",
       "      <td>280.000000</td>\n",
       "      <td>2.563400</td>\n",
       "      <td>119600.000000</td>\n",
       "    </tr>\n",
       "    <tr>\n",
       "      <th>50%</th>\n",
       "      <td>-118.490000</td>\n",
       "      <td>34.260000</td>\n",
       "      <td>29.000000</td>\n",
       "      <td>2127.000000</td>\n",
       "      <td>435.000000</td>\n",
       "      <td>1166.000000</td>\n",
       "      <td>409.000000</td>\n",
       "      <td>3.534800</td>\n",
       "      <td>179700.000000</td>\n",
       "    </tr>\n",
       "    <tr>\n",
       "      <th>75%</th>\n",
       "      <td>-118.010000</td>\n",
       "      <td>37.710000</td>\n",
       "      <td>37.000000</td>\n",
       "      <td>3148.000000</td>\n",
       "      <td>647.000000</td>\n",
       "      <td>1725.000000</td>\n",
       "      <td>605.000000</td>\n",
       "      <td>4.743250</td>\n",
       "      <td>264725.000000</td>\n",
       "    </tr>\n",
       "    <tr>\n",
       "      <th>max</th>\n",
       "      <td>-114.310000</td>\n",
       "      <td>41.950000</td>\n",
       "      <td>52.000000</td>\n",
       "      <td>39320.000000</td>\n",
       "      <td>6445.000000</td>\n",
       "      <td>35682.000000</td>\n",
       "      <td>6082.000000</td>\n",
       "      <td>15.000100</td>\n",
       "      <td>500001.000000</td>\n",
       "    </tr>\n",
       "  </tbody>\n",
       "</table>\n",
       "</div>"
      ],
      "text/plain": [
       "          longitude      latitude  housing_median_age   total_rooms  \\\n",
       "count  20640.000000  20640.000000        20640.000000  20640.000000   \n",
       "mean    -119.569704     35.631861           28.639486   2635.763081   \n",
       "std        2.003532      2.135952           12.585558   2181.615252   \n",
       "min     -124.350000     32.540000            1.000000      2.000000   \n",
       "25%     -121.800000     33.930000           18.000000   1447.750000   \n",
       "50%     -118.490000     34.260000           29.000000   2127.000000   \n",
       "75%     -118.010000     37.710000           37.000000   3148.000000   \n",
       "max     -114.310000     41.950000           52.000000  39320.000000   \n",
       "\n",
       "       total_bedrooms    population    households  median_income  \\\n",
       "count    20433.000000  20640.000000  20640.000000   20640.000000   \n",
       "mean       537.870553   1425.476744    499.539680       3.870671   \n",
       "std        421.385070   1132.462122    382.329753       1.899822   \n",
       "min          1.000000      3.000000      1.000000       0.499900   \n",
       "25%        296.000000    787.000000    280.000000       2.563400   \n",
       "50%        435.000000   1166.000000    409.000000       3.534800   \n",
       "75%        647.000000   1725.000000    605.000000       4.743250   \n",
       "max       6445.000000  35682.000000   6082.000000      15.000100   \n",
       "\n",
       "       median_house_value  \n",
       "count        20640.000000  \n",
       "mean        206855.816909  \n",
       "std         115395.615874  \n",
       "min          14999.000000  \n",
       "25%         119600.000000  \n",
       "50%         179700.000000  \n",
       "75%         264725.000000  \n",
       "max         500001.000000  "
      ]
     },
     "execution_count": 5,
     "metadata": {},
     "output_type": "execute_result"
    }
   ],
   "source": [
    "data.describe()"
   ]
  },
  {
   "cell_type": "code",
   "execution_count": 6,
   "id": "bb0d472f-794a-4bbe-babf-e5fd5d5ece07",
   "metadata": {},
   "outputs": [
    {
     "data": {
      "text/plain": [
       "array([[<AxesSubplot:title={'center':'longitude'}>,\n",
       "        <AxesSubplot:title={'center':'latitude'}>,\n",
       "        <AxesSubplot:title={'center':'housing_median_age'}>],\n",
       "       [<AxesSubplot:title={'center':'total_rooms'}>,\n",
       "        <AxesSubplot:title={'center':'total_bedrooms'}>,\n",
       "        <AxesSubplot:title={'center':'population'}>],\n",
       "       [<AxesSubplot:title={'center':'households'}>,\n",
       "        <AxesSubplot:title={'center':'median_income'}>,\n",
       "        <AxesSubplot:title={'center':'median_house_value'}>]],\n",
       "      dtype=object)"
      ]
     },
     "execution_count": 6,
     "metadata": {},
     "output_type": "execute_result"
    },
    {
     "data": {
      "image/png": "[encoded data removed]",
      "text/plain": [
       "<Figure size 1440x1080 with 9 Axes>"
      ]
     },
     "metadata": {
      "needs_background": "light"
     },
     "output_type": "display_data"
    }
   ],
   "source": [
    "data.hist(bins=50, figsize=(20,15))"
   ]
  },
  {
   "cell_type": "markdown",
   "id": "4c2c605f-c664-43b8-99ad-383a806675b1",
   "metadata": {},
   "source": [
    "## Missing data"
   ]
  },
  {
   "cell_type": "code",
   "execution_count": 7,
   "id": "232fed6f-a5df-480c-bb59-7842c6202bcc",
   "metadata": {},
   "outputs": [],
   "source": [
    "def report_missing_data(dataset):\n",
    "    total = dataset.isnull().sum().sort_values(ascending=False)\n",
    "    percent = dataset.isnull().sum()/total \n",
    "        \n",
    "    missing_data = pd.concat([total, percent], axis=1, keys=['Total', 'Percent'])\n",
    "    missing_data.plot(kind='bar',y='Total',figsize=(10,6),fontsize=20)\n",
    "    print(missing_data)"
   ]
  },
  {
   "cell_type": "code",
   "execution_count": 8,
   "id": "cde61098-5bc5-4898-8185-10ae0ef9a8f3",
   "metadata": {},
   "outputs": [
    {
     "name": "stdout",
     "output_type": "stream",
     "text": [
      "                    Total  Percent\n",
      "total_bedrooms        207      1.0\n",
      "longitude               0      NaN\n",
      "latitude                0      NaN\n",
      "housing_median_age      0      NaN\n",
      "total_rooms             0      NaN\n",
      "population              0      NaN\n",
      "households              0      NaN\n",
      "median_income           0      NaN\n",
      "median_house_value      0      NaN\n",
      "ocean_proximity         0      NaN\n"
     ]
    },
    {
     "data": {
      "image/png": "[encoded data removed]",
      "text/plain": [
       "<Figure size 720x432 with 1 Axes>"
      ]
     },
     "metadata": {
      "needs_background": "light"
     },
     "output_type": "display_data"
    }
   ],
   "source": [
    "report_missing_data(data)"
   ]
  },
  {
   "cell_type": "code",
   "execution_count": 9,
   "id": "5e807a94-1744-4e50-91ed-f2541f8a8038",
   "metadata": {},
   "outputs": [],
   "source": [
    "missing_features = ['total_bedrooms']"
   ]
  },
  {
   "cell_type": "code",
   "execution_count": 10,
   "id": "2de23277-eab9-4829-9512-1f15df3d12f4",
   "metadata": {},
   "outputs": [],
   "source": [
    "for missing_feature in missing_features:\n",
    "    median=data[missing_feature].median()\n",
    "    data[missing_feature]=data[missing_feature].replace(np.nan,median)\n",
    "    data[missing_feature].isnull().sum()"
   ]
  },
  {
   "cell_type": "markdown",
   "id": "d9b95a8e-6d1f-4be9-a5a8-7ea24aa542b0",
   "metadata": {},
   "source": [
    "## Attribute Combination"
   ]
  },
  {
   "cell_type": "markdown",
   "id": "242a5b14-1e03-4ff3-9558-694b10bd4b2e",
   "metadata": {},
   "source": [
    "The total rooms in a particular district is not much related to the house price if the population is not specified. The more relevant variable for the house price is the number of people in a house. Therefore, one may introduce a new attribute population_per_household."
   ]
  },
  {
   "cell_type": "code",
   "execution_count": 11,
   "id": "5bea81e9-8c10-45ba-b9ec-0048e5203385",
   "metadata": {},
   "outputs": [],
   "source": [
    "data['population_per_household'] = data['population']/data['households']"
   ]
  },
  {
   "cell_type": "markdown",
   "id": "a15a201b-559d-4006-b3e2-bad9b22db0c7",
   "metadata": {},
   "source": [
    "In addition, the number of rooms per household and bedrooms per rooms are introduced."
   ]
  },
  {
   "cell_type": "code",
   "execution_count": 12,
   "id": "d03dd8eb-e62c-43ae-9b17-e0028ec6437f",
   "metadata": {},
   "outputs": [],
   "source": [
    "data['bedrooms_per_room'] = data['total_bedrooms']/data['total_rooms']\n",
    "data['rooms_per_household'] = data['total_rooms']/data['households']"
   ]
  },
  {
   "cell_type": "code",
   "execution_count": 13,
   "id": "9d5ec11f-b8b9-4b83-9269-10e896d51ea7",
   "metadata": {},
   "outputs": [
    {
     "data": {
      "text/html": [
       "<div>\n",
       "<style scoped>\n",
       "    .dataframe tbody tr th:only-of-type {\n",
       "        vertical-align: middle;\n",
       "    }\n",
       "\n",
       "    .dataframe tbody tr th {\n",
       "        vertical-align: top;\n",
       "    }\n",
       "\n",
       "    .dataframe thead th {\n",
       "        text-align: right;\n",
       "    }\n",
       "</style>\n",
       "<table border=\"1\" class=\"dataframe\">\n",
       "  <thead>\n",
       "    <tr style=\"text-align: right;\">\n",
       "      <th></th>\n",
       "      <th>longitude</th>\n",
       "      <th>latitude</th>\n",
       "      <th>housing_median_age</th>\n",
       "      <th>total_rooms</th>\n",
       "      <th>total_bedrooms</th>\n",
       "      <th>population</th>\n",
       "      <th>households</th>\n",
       "      <th>median_income</th>\n",
       "      <th>median_house_value</th>\n",
       "      <th>ocean_proximity</th>\n",
       "      <th>population_per_household</th>\n",
       "      <th>bedrooms_per_room</th>\n",
       "      <th>rooms_per_household</th>\n",
       "    </tr>\n",
       "  </thead>\n",
       "  <tbody>\n",
       "    <tr>\n",
       "      <th>0</th>\n",
       "      <td>-122.23</td>\n",
       "      <td>37.88</td>\n",
       "      <td>41.0</td>\n",
       "      <td>880.0</td>\n",
       "      <td>129.0</td>\n",
       "      <td>322.0</td>\n",
       "      <td>126.0</td>\n",
       "      <td>8.3252</td>\n",
       "      <td>452600.0</td>\n",
       "      <td>NEAR BAY</td>\n",
       "      <td>2.555556</td>\n",
       "      <td>0.146591</td>\n",
       "      <td>6.984127</td>\n",
       "    </tr>\n",
       "    <tr>\n",
       "      <th>1</th>\n",
       "      <td>-122.22</td>\n",
       "      <td>37.86</td>\n",
       "      <td>21.0</td>\n",
       "      <td>7099.0</td>\n",
       "      <td>1106.0</td>\n",
       "      <td>2401.0</td>\n",
       "      <td>1138.0</td>\n",
       "      <td>8.3014</td>\n",
       "      <td>358500.0</td>\n",
       "      <td>NEAR BAY</td>\n",
       "      <td>2.109842</td>\n",
       "      <td>0.155797</td>\n",
       "      <td>6.238137</td>\n",
       "    </tr>\n",
       "    <tr>\n",
       "      <th>2</th>\n",
       "      <td>-122.24</td>\n",
       "      <td>37.85</td>\n",
       "      <td>52.0</td>\n",
       "      <td>1467.0</td>\n",
       "      <td>190.0</td>\n",
       "      <td>496.0</td>\n",
       "      <td>177.0</td>\n",
       "      <td>7.2574</td>\n",
       "      <td>352100.0</td>\n",
       "      <td>NEAR BAY</td>\n",
       "      <td>2.802260</td>\n",
       "      <td>0.129516</td>\n",
       "      <td>8.288136</td>\n",
       "    </tr>\n",
       "    <tr>\n",
       "      <th>3</th>\n",
       "      <td>-122.25</td>\n",
       "      <td>37.85</td>\n",
       "      <td>52.0</td>\n",
       "      <td>1274.0</td>\n",
       "      <td>235.0</td>\n",
       "      <td>558.0</td>\n",
       "      <td>219.0</td>\n",
       "      <td>5.6431</td>\n",
       "      <td>341300.0</td>\n",
       "      <td>NEAR BAY</td>\n",
       "      <td>2.547945</td>\n",
       "      <td>0.184458</td>\n",
       "      <td>5.817352</td>\n",
       "    </tr>\n",
       "    <tr>\n",
       "      <th>4</th>\n",
       "      <td>-122.25</td>\n",
       "      <td>37.85</td>\n",
       "      <td>52.0</td>\n",
       "      <td>1627.0</td>\n",
       "      <td>280.0</td>\n",
       "      <td>565.0</td>\n",
       "      <td>259.0</td>\n",
       "      <td>3.8462</td>\n",
       "      <td>342200.0</td>\n",
       "      <td>NEAR BAY</td>\n",
       "      <td>2.181467</td>\n",
       "      <td>0.172096</td>\n",
       "      <td>6.281853</td>\n",
       "    </tr>\n",
       "  </tbody>\n",
       "</table>\n",
       "</div>"
      ],
      "text/plain": [
       "   longitude  latitude  housing_median_age  total_rooms  total_bedrooms  \\\n",
       "0    -122.23     37.88                41.0        880.0           129.0   \n",
       "1    -122.22     37.86                21.0       7099.0          1106.0   \n",
       "2    -122.24     37.85                52.0       1467.0           190.0   \n",
       "3    -122.25     37.85                52.0       1274.0           235.0   \n",
       "4    -122.25     37.85                52.0       1627.0           280.0   \n",
       "\n",
       "   population  households  median_income  median_house_value ocean_proximity  \\\n",
       "0       322.0       126.0         8.3252            452600.0        NEAR BAY   \n",
       "1      2401.0      1138.0         8.3014            358500.0        NEAR BAY   \n",
       "2       496.0       177.0         7.2574            352100.0        NEAR BAY   \n",
       "3       558.0       219.0         5.6431            341300.0        NEAR BAY   \n",
       "4       565.0       259.0         3.8462            342200.0        NEAR BAY   \n",
       "\n",
       "   population_per_household  bedrooms_per_room  rooms_per_household  \n",
       "0                  2.555556           0.146591             6.984127  \n",
       "1                  2.109842           0.155797             6.238137  \n",
       "2                  2.802260           0.129516             8.288136  \n",
       "3                  2.547945           0.184458             5.817352  \n",
       "4                  2.181467           0.172096             6.281853  "
      ]
     },
     "execution_count": 13,
     "metadata": {},
     "output_type": "execute_result"
    }
   ],
   "source": [
    "data.head()"
   ]
  },
  {
   "cell_type": "code",
   "execution_count": 14,
   "id": "3feb29df-b77b-4449-a863-6a187fd23487",
   "metadata": {},
   "outputs": [
    {
     "name": "stderr",
     "output_type": "stream",
     "text": [
      "/home/bensaid/.local/lib/python3.8/site-packages/seaborn/_decorators.py:36: FutureWarning: Pass the following variable as a keyword arg: x. From version 0.12, the only valid positional argument will be `data`, and passing other arguments without an explicit keyword will result in an error or misinterpretation.\n",
      "  warnings.warn(\n"
     ]
    },
    {
     "data": {
      "text/plain": [
       "<AxesSubplot:xlabel='population_per_household'>"
      ]
     },
     "execution_count": 14,
     "metadata": {},
     "output_type": "execute_result"
    },
    {
     "data": {
      "image/png": "[encoded data removed]",
      "text/plain": [
       "<Figure size 432x288 with 1 Axes>"
      ]
     },
     "metadata": {
      "needs_background": "light"
     },
     "output_type": "display_data"
    }
   ],
   "source": [
    "sns.boxplot(data['population_per_household'])"
   ]
  },
  {
   "cell_type": "markdown",
   "id": "005e73a0-6704-409e-8f94-c510d5aedf95",
   "metadata": {},
   "source": [
    "## Outliers\n"
   ]
  },
  {
   "cell_type": "code",
   "execution_count": 15,
   "id": "0ae15d68-0919-492d-9fdd-cc6ecd8fd55d",
   "metadata": {},
   "outputs": [],
   "source": [
    "def get_iqr_values(df_in, col_name):\n",
    "    median = df_in[col_name].median()\n",
    "    q1 = df_in[col_name].quantile(0.25) # 25th percentile / 1st quartile\n",
    "    q3 = df_in[col_name].quantile(0.75) # 7th percentile / 3rd quartile\n",
    "    iqr = q3-q1 #Interquartile range\n",
    "    minimum  = q1-1.5*iqr # The minimum value or the |- marker in the box plot\n",
    "    maximum = q3+1.5*iqr # The maximum value or the -| marker in the box plot\n",
    "    return median, q1, q3, iqr, minimum, maximum\n",
    "\n",
    "def get_iqr_text(df_in, col_name):\n",
    "    median, q1, q3, iqr, minimum, maximum = get_iqr_values(df_in, col_name)\n",
    "    text = f\"median={median:.2f}, q1={q1:.2f}, q3={q3:.2f}, iqr={iqr:.2f}, minimum={minimum:.2f}, maximum={maximum:.2f}\"\n",
    "    return text\n",
    "\n",
    "def remove_outliers(df_in, col_name):\n",
    "    _, _, _, _, minimum, maximum = get_iqr_values(df_in, col_name)\n",
    "    df_out = df_in.loc[(df_in[col_name] > minimum) & (df_in[col_name] < maximum)]\n",
    "    return df_out\n",
    "\n",
    "def count_outliers(df_in, col_name):\n",
    "    _, _, _, _, minimum, maximum = get_iqr_values(df_in, col_name)\n",
    "    df_outliers = df_in.loc[(df_in[col_name] <= minimum) | (df_in[col_name] >= maximum)]\n",
    "    return df_outliers.shape[0]\n",
    "\n",
    "def box_and_whisker(df_in, col_name):\n",
    "    title = get_iqr_text(df_in, col_name)\n",
    "    sns.boxplot(df_in[col_name])\n",
    "    plt.title(title)\n",
    "    plt.show()"
   ]
  },
  {
   "cell_type": "code",
   "execution_count": 16,
   "id": "51b4776e-33eb-41d1-88ef-1f7c1ac6f730",
   "metadata": {},
   "outputs": [],
   "source": [
    "def remove_all_outliers(df_in, col_name):\n",
    "    loop_count = 0\n",
    "    outlier_count = count_outliers(df_in, col_name)\n",
    "\n",
    "    while outlier_count > 0:\n",
    "        loop_count += 1\n",
    "\n",
    "        if (loop_count > 1000000):\n",
    "            break\n",
    "\n",
    "        df_in = remove_outliers(df_in, col_name)\n",
    "        outlier_count = count_outliers(df_in, col_name)\n",
    "    \n",
    "    return df_in"
   ]
  },
  {
   "cell_type": "code",
   "execution_count": 17,
   "id": "206e3315-99c4-48ef-ad90-42e92596e4de",
   "metadata": {},
   "outputs": [
    {
     "data": {
      "text/plain": [
       "['longitude',\n",
       " 'latitude',\n",
       " 'housing_median_age',\n",
       " 'total_rooms',\n",
       " 'total_bedrooms',\n",
       " 'population',\n",
       " 'households',\n",
       " 'median_income',\n",
       " 'median_house_value',\n",
       " 'ocean_proximity',\n",
       " 'population_per_household',\n",
       " 'bedrooms_per_room',\n",
       " 'rooms_per_household']"
      ]
     },
     "execution_count": 17,
     "metadata": {},
     "output_type": "execute_result"
    }
   ],
   "source": [
    "attributes = data.columns.values.tolist()\n",
    "attributes"
   ]
  },
  {
   "cell_type": "code",
   "execution_count": 18,
   "id": "0114b428-b7dc-425f-b794-d61527fb6278",
   "metadata": {},
   "outputs": [],
   "source": [
    "for k in range(100): #In case some outliers remain\n",
    "    for attribute in attributes:\n",
    "        if(attribute!='ocean_proximity'):\n",
    "            data = remove_all_outliers(data,attribute)"
   ]
  },
  {
   "cell_type": "code",
   "execution_count": 22,
   "id": "35e12cda-b60a-4783-8091-6e199905f306",
   "metadata": {},
   "outputs": [
    {
     "name": "stderr",
     "output_type": "stream",
     "text": [
      "/home/bensaid/.local/lib/python3.8/site-packages/seaborn/_decorators.py:36: FutureWarning: Pass the following variable as a keyword arg: x. From version 0.12, the only valid positional argument will be `data`, and passing other arguments without an explicit keyword will result in an error or misinterpretation.\n",
      "  warnings.warn(\n"
     ]
    },
    {
     "data": {
      "text/plain": [
       "<AxesSubplot:xlabel='median_house_value'>"
      ]
     },
     "execution_count": 22,
     "metadata": {},
     "output_type": "execute_result"
    },
    {
     "data": {
      "image/png": "[encoded data removed]",
      "text/plain": [
       "<Figure size 432x288 with 1 Axes>"
      ]
     },
     "metadata": {
      "needs_background": "light"
     },
     "output_type": "display_data"
    }
   ],
   "source": [
    "sns.boxplot(data['median_house_value'])"
   ]
  },
  {
   "cell_type": "code",
   "execution_count": 23,
   "id": "b7c8a5c2-00eb-4330-8751-e1d02c92319f",
   "metadata": {},
   "outputs": [
    {
     "data": {
      "text/plain": [
       "(14090, 13)"
      ]
     },
     "execution_count": 23,
     "metadata": {},
     "output_type": "execute_result"
    }
   ],
   "source": [
    "data.shape"
   ]
  },
  {
   "cell_type": "markdown",
   "id": "db7cf54a-95b9-431a-b3c9-f280954c6aad",
   "metadata": {},
   "source": [
    "## Separation between training and test dataset"
   ]
  },
  {
   "cell_type": "markdown",
   "id": "9e5aad56-553d-4324-a05a-70647af6f72e",
   "metadata": {},
   "source": [
    "add a new categorical feature in order to evaluate the splitting properly. This new feature will be deleted afterwards."
   ]
  },
  {
   "cell_type": "code",
   "execution_count": 24,
   "id": "c756f73e-3cc1-4039-8031-0b1f97acfef3",
   "metadata": {},
   "outputs": [],
   "source": [
    "from sklearn.model_selection import train_test_split"
   ]
  },
  {
   "cell_type": "code",
   "execution_count": 25,
   "id": "a7c53888-6942-485e-8408-7d87b0d46b10",
   "metadata": {},
   "outputs": [],
   "source": [
    "data['income_cat'] = np.ceil(data['median_income']/1.5)\n",
    "data['income_cat'].where(data['income_cat']<5, 5, inplace=True)"
   ]
  },
  {
   "cell_type": "code",
   "execution_count": 26,
   "id": "3e8d4980-1a39-4099-80d2-a7cd2851f02c",
   "metadata": {},
   "outputs": [
    {
     "data": {
      "text/plain": [
       "(array([ 490.,    0., 4712.,    0.,    0., 5413.,    0., 2671.,    0.,\n",
       "         804.]),\n",
       " array([1. , 1.4, 1.8, 2.2, 2.6, 3. , 3.4, 3.8, 4.2, 4.6, 5. ]),\n",
       " <BarContainer object of 10 artists>)"
      ]
     },
     "execution_count": 26,
     "metadata": {},
     "output_type": "execute_result"
    },
    {
     "data": {
      "image/png": "[encoded data removed]",
      "text/plain": [
       "<Figure size 432x288 with 1 Axes>"
      ]
     },
     "metadata": {
      "needs_background": "light"
     },
     "output_type": "display_data"
    }
   ],
   "source": [
    "plt.hist(data.income_cat)"
   ]
  },
  {
   "cell_type": "code",
   "execution_count": 27,
   "id": "e633f294-a9ad-475c-8803-d75db44e2d9f",
   "metadata": {},
   "outputs": [
    {
     "data": {
      "text/plain": [
       "3.0    0.384173\n",
       "2.0    0.334422\n",
       "4.0    0.189567\n",
       "5.0    0.057062\n",
       "1.0    0.034776\n",
       "Name: income_cat, dtype: float64"
      ]
     },
     "execution_count": 27,
     "metadata": {},
     "output_type": "execute_result"
    }
   ],
   "source": [
    "data.income_cat.value_counts()/len(data.income_cat)"
   ]
  },
  {
   "cell_type": "code",
   "execution_count": 28,
   "id": "e6e2d3a4-4a0e-47b9-a702-7dd3d133683c",
   "metadata": {},
   "outputs": [],
   "source": [
    "train_set,test_set = train_test_split(data, test_size=0.2, random_state=42)"
   ]
  },
  {
   "cell_type": "code",
   "execution_count": 29,
   "id": "4f327877-7357-476e-994d-e83373e09cc2",
   "metadata": {},
   "outputs": [],
   "source": [
    "def table4income_cat(dataset,df,label):\n",
    "    df[label]=pd.Series(dataset['income_cat'].value_counts()/len(dataset['income_cat']))\n",
    "    return df"
   ]
  },
  {
   "cell_type": "code",
   "execution_count": 30,
   "id": "153add05-761d-45ba-abe6-287aaef096c5",
   "metadata": {},
   "outputs": [
    {
     "data": {
      "text/html": [
       "<div>\n",
       "<style scoped>\n",
       "    .dataframe tbody tr th:only-of-type {\n",
       "        vertical-align: middle;\n",
       "    }\n",
       "\n",
       "    .dataframe tbody tr th {\n",
       "        vertical-align: top;\n",
       "    }\n",
       "\n",
       "    .dataframe thead th {\n",
       "        text-align: right;\n",
       "    }\n",
       "</style>\n",
       "<table border=\"1\" class=\"dataframe\">\n",
       "  <thead>\n",
       "    <tr style=\"text-align: right;\">\n",
       "      <th></th>\n",
       "      <th>All_set</th>\n",
       "      <th>train_set_split</th>\n",
       "      <th>test_set_split</th>\n",
       "    </tr>\n",
       "  </thead>\n",
       "  <tbody>\n",
       "    <tr>\n",
       "      <th>3.0</th>\n",
       "      <td>0.384173</td>\n",
       "      <td>0.381388</td>\n",
       "      <td>0.395316</td>\n",
       "    </tr>\n",
       "    <tr>\n",
       "      <th>2.0</th>\n",
       "      <td>0.334422</td>\n",
       "      <td>0.334546</td>\n",
       "      <td>0.333925</td>\n",
       "    </tr>\n",
       "    <tr>\n",
       "      <th>4.0</th>\n",
       "      <td>0.189567</td>\n",
       "      <td>0.193222</td>\n",
       "      <td>0.174947</td>\n",
       "    </tr>\n",
       "    <tr>\n",
       "      <th>5.0</th>\n",
       "      <td>0.057062</td>\n",
       "      <td>0.055979</td>\n",
       "      <td>0.061391</td>\n",
       "    </tr>\n",
       "    <tr>\n",
       "      <th>1.0</th>\n",
       "      <td>0.034776</td>\n",
       "      <td>0.034865</td>\n",
       "      <td>0.034422</td>\n",
       "    </tr>\n",
       "  </tbody>\n",
       "</table>\n",
       "</div>"
      ],
      "text/plain": [
       "      All_set  train_set_split  test_set_split\n",
       "3.0  0.384173         0.381388        0.395316\n",
       "2.0  0.334422         0.334546        0.333925\n",
       "4.0  0.189567         0.193222        0.174947\n",
       "5.0  0.057062         0.055979        0.061391\n",
       "1.0  0.034776         0.034865        0.034422"
      ]
     },
     "execution_count": 30,
     "metadata": {},
     "output_type": "execute_result"
    }
   ],
   "source": [
    "df = pd.DataFrame()\n",
    "df = table4income_cat(data,df,'All_set')\n",
    "df = table4income_cat(train_set,df,'train_set_split')\n",
    "df = table4income_cat(test_set,df,'test_set_split')\n",
    "df"
   ]
  },
  {
   "cell_type": "markdown",
   "id": "0e123f71-77bc-41e4-908b-e7dcf9b5472b",
   "metadata": {},
   "source": [
    "The income category propotions in train data and test data are closer to that in the all dataset."
   ]
  },
  {
   "cell_type": "markdown",
   "id": "2293a107-f3b9-4663-b8f3-97bca367b20b",
   "metadata": {},
   "source": [
    "After split the data into train and test, we delete the newly added feature."
   ]
  },
  {
   "cell_type": "code",
   "execution_count": 33,
   "id": "83ae984c-dff3-4f7a-a5fb-830288789116",
   "metadata": {},
   "outputs": [],
   "source": [
    "# delete the new feature\n",
    "for set_ in (data, train_set, test_set):\n",
    "    set_.drop(\"income_cat\",axis=1,inplace=True)"
   ]
  },
  {
   "cell_type": "code",
   "execution_count": 34,
   "id": "4fe6e65c-7c58-4980-9a2e-25b3a85b0410",
   "metadata": {},
   "outputs": [
    {
     "data": {
      "text/html": [
       "<div>\n",
       "<style scoped>\n",
       "    .dataframe tbody tr th:only-of-type {\n",
       "        vertical-align: middle;\n",
       "    }\n",
       "\n",
       "    .dataframe tbody tr th {\n",
       "        vertical-align: top;\n",
       "    }\n",
       "\n",
       "    .dataframe thead th {\n",
       "        text-align: right;\n",
       "    }\n",
       "</style>\n",
       "<table border=\"1\" class=\"dataframe\">\n",
       "  <thead>\n",
       "    <tr style=\"text-align: right;\">\n",
       "      <th></th>\n",
       "      <th>longitude</th>\n",
       "      <th>latitude</th>\n",
       "      <th>housing_median_age</th>\n",
       "      <th>total_rooms</th>\n",
       "      <th>total_bedrooms</th>\n",
       "      <th>population</th>\n",
       "      <th>households</th>\n",
       "      <th>median_income</th>\n",
       "      <th>median_house_value</th>\n",
       "      <th>ocean_proximity</th>\n",
       "      <th>population_per_household</th>\n",
       "      <th>bedrooms_per_room</th>\n",
       "      <th>rooms_per_household</th>\n",
       "    </tr>\n",
       "  </thead>\n",
       "  <tbody>\n",
       "    <tr>\n",
       "      <th>12239</th>\n",
       "      <td>-116.93</td>\n",
       "      <td>33.73</td>\n",
       "      <td>13.0</td>\n",
       "      <td>3603.0</td>\n",
       "      <td>573.0</td>\n",
       "      <td>1644.0</td>\n",
       "      <td>515.0</td>\n",
       "      <td>4.0433</td>\n",
       "      <td>132300.0</td>\n",
       "      <td>INLAND</td>\n",
       "      <td>3.192233</td>\n",
       "      <td>0.159034</td>\n",
       "      <td>6.996117</td>\n",
       "    </tr>\n",
       "    <tr>\n",
       "      <th>11150</th>\n",
       "      <td>-117.97</td>\n",
       "      <td>33.84</td>\n",
       "      <td>34.0</td>\n",
       "      <td>874.0</td>\n",
       "      <td>153.0</td>\n",
       "      <td>549.0</td>\n",
       "      <td>153.0</td>\n",
       "      <td>4.8667</td>\n",
       "      <td>186800.0</td>\n",
       "      <td>&lt;1H OCEAN</td>\n",
       "      <td>3.588235</td>\n",
       "      <td>0.175057</td>\n",
       "      <td>5.712418</td>\n",
       "    </tr>\n",
       "    <tr>\n",
       "      <th>14086</th>\n",
       "      <td>-117.09</td>\n",
       "      <td>32.77</td>\n",
       "      <td>38.0</td>\n",
       "      <td>2065.0</td>\n",
       "      <td>374.0</td>\n",
       "      <td>812.0</td>\n",
       "      <td>343.0</td>\n",
       "      <td>3.1250</td>\n",
       "      <td>216500.0</td>\n",
       "      <td>NEAR OCEAN</td>\n",
       "      <td>2.367347</td>\n",
       "      <td>0.181114</td>\n",
       "      <td>6.020408</td>\n",
       "    </tr>\n",
       "    <tr>\n",
       "      <th>17550</th>\n",
       "      <td>-121.87</td>\n",
       "      <td>37.35</td>\n",
       "      <td>52.0</td>\n",
       "      <td>1557.0</td>\n",
       "      <td>424.0</td>\n",
       "      <td>1580.0</td>\n",
       "      <td>434.0</td>\n",
       "      <td>2.3277</td>\n",
       "      <td>183700.0</td>\n",
       "      <td>&lt;1H OCEAN</td>\n",
       "      <td>3.640553</td>\n",
       "      <td>0.272319</td>\n",
       "      <td>3.587558</td>\n",
       "    </tr>\n",
       "    <tr>\n",
       "      <th>3896</th>\n",
       "      <td>-118.50</td>\n",
       "      <td>34.21</td>\n",
       "      <td>35.0</td>\n",
       "      <td>1668.0</td>\n",
       "      <td>332.0</td>\n",
       "      <td>807.0</td>\n",
       "      <td>311.0</td>\n",
       "      <td>4.5125</td>\n",
       "      <td>200300.0</td>\n",
       "      <td>&lt;1H OCEAN</td>\n",
       "      <td>2.594855</td>\n",
       "      <td>0.199041</td>\n",
       "      <td>5.363344</td>\n",
       "    </tr>\n",
       "  </tbody>\n",
       "</table>\n",
       "</div>"
      ],
      "text/plain": [
       "       longitude  latitude  housing_median_age  total_rooms  total_bedrooms  \\\n",
       "12239    -116.93     33.73                13.0       3603.0           573.0   \n",
       "11150    -117.97     33.84                34.0        874.0           153.0   \n",
       "14086    -117.09     32.77                38.0       2065.0           374.0   \n",
       "17550    -121.87     37.35                52.0       1557.0           424.0   \n",
       "3896     -118.50     34.21                35.0       1668.0           332.0   \n",
       "\n",
       "       population  households  median_income  median_house_value  \\\n",
       "12239      1644.0       515.0         4.0433            132300.0   \n",
       "11150       549.0       153.0         4.8667            186800.0   \n",
       "14086       812.0       343.0         3.1250            216500.0   \n",
       "17550      1580.0       434.0         2.3277            183700.0   \n",
       "3896        807.0       311.0         4.5125            200300.0   \n",
       "\n",
       "      ocean_proximity  population_per_household  bedrooms_per_room  \\\n",
       "12239          INLAND                  3.192233           0.159034   \n",
       "11150       <1H OCEAN                  3.588235           0.175057   \n",
       "14086      NEAR OCEAN                  2.367347           0.181114   \n",
       "17550       <1H OCEAN                  3.640553           0.272319   \n",
       "3896        <1H OCEAN                  2.594855           0.199041   \n",
       "\n",
       "       rooms_per_household  \n",
       "12239             6.996117  \n",
       "11150             5.712418  \n",
       "14086             6.020408  \n",
       "17550             3.587558  \n",
       "3896              5.363344  "
      ]
     },
     "execution_count": 34,
     "metadata": {},
     "output_type": "execute_result"
    }
   ],
   "source": [
    "train_set.head()"
   ]
  },
  {
   "cell_type": "markdown",
   "id": "a56c363e-0f69-4869-bd7f-0e5a5cd9113d",
   "metadata": {},
   "source": [
    "## Separation between inputs and outputs"
   ]
  },
  {
   "cell_type": "code",
   "execution_count": 35,
   "id": "170e030a-74a2-4c87-a89f-62a79ebbe588",
   "metadata": {},
   "outputs": [],
   "source": [
    "X_train = train_set.drop(\"median_house_value\",axis=1)\n",
    "y_train = train_set[\"median_house_value\"].copy()"
   ]
  },
  {
   "cell_type": "code",
   "execution_count": 36,
   "id": "ffdcdfd5-82e3-4b77-8277-665369829018",
   "metadata": {},
   "outputs": [
    {
     "data": {
      "text/plain": [
       "((11272, 12), (11272,))"
      ]
     },
     "execution_count": 36,
     "metadata": {},
     "output_type": "execute_result"
    }
   ],
   "source": [
    "X_train.shape,y_train.shape"
   ]
  },
  {
   "cell_type": "code",
   "execution_count": 38,
   "id": "c0bd26cf-3f56-4353-a40d-07772e75b06b",
   "metadata": {},
   "outputs": [],
   "source": [
    "X_test = test_set.drop(\"median_house_value\",axis=1)\n",
    "y_test = test_set[\"median_house_value\"].copy()"
   ]
  },
  {
   "cell_type": "markdown",
   "id": "38fd4333-c64c-41a5-a2c8-5a5acde681ba",
   "metadata": {},
   "source": [
    "## Categorical data with one-hot encoding"
   ]
  },
  {
   "cell_type": "code",
   "execution_count": 39,
   "id": "0084c76c-34c4-4acb-93fc-8b69e91de3ea",
   "metadata": {},
   "outputs": [
    {
     "data": {
      "text/plain": [
       "array(['INLAND', '<1H OCEAN', 'NEAR OCEAN', 'NEAR BAY', 'ISLAND'],\n",
       "      dtype=object)"
      ]
     },
     "execution_count": 39,
     "metadata": {},
     "output_type": "execute_result"
    }
   ],
   "source": [
    "X_train['ocean_proximity'].unique()"
   ]
  },
  {
   "cell_type": "code",
   "execution_count": 40,
   "id": "daffc1b6-8c8c-40b8-9af7-9c11060b9896",
   "metadata": {},
   "outputs": [
    {
     "data": {
      "text/plain": [
       "['longitude',\n",
       " 'latitude',\n",
       " 'housing_median_age',\n",
       " 'total_rooms',\n",
       " 'total_bedrooms',\n",
       " 'population',\n",
       " 'households',\n",
       " 'median_income',\n",
       " 'population_per_household',\n",
       " 'bedrooms_per_room',\n",
       " 'rooms_per_household']"
      ]
     },
     "execution_count": 40,
     "metadata": {},
     "output_type": "execute_result"
    }
   ],
   "source": [
    "housing_num = X_train.drop(\"ocean_proximity\",axis=1)\n",
    "num_attribs = list(housing_num)\n",
    "num_attribs"
   ]
  },
  {
   "cell_type": "code",
   "execution_count": 41,
   "id": "90bac09a-d754-4d24-a84e-28f4970d025e",
   "metadata": {},
   "outputs": [],
   "source": [
    "from sklearn.pipeline import Pipeline\n",
    "from sklearn.preprocessing import StandardScaler,RobustScaler\n",
    "from sklearn.impute import SimpleImputer  \n",
    "from sklearn.pipeline import FeatureUnion\n",
    "#CategoricalEncoder(encoding='onehot-dense')\n",
    "\n",
    "\n",
    "from sklearn.base import BaseEstimator,TransformerMixin\n",
    "#select columns and transit to array\n",
    "\n",
    "from sklearn.base import BaseEstimator, TransformerMixin\n",
    "from sklearn.utils import check_array\n",
    "from sklearn.preprocessing import LabelEncoder\n",
    "from scipy import sparse\n",
    "\n",
    "class CategoricalEncoder(BaseEstimator, TransformerMixin):\n",
    "    \n",
    "\n",
    "    def __init__(self, encoding='onehot', categories='auto', dtype=np.float64,\n",
    "                 handle_unknown='error'):\n",
    "        self.encoding = encoding\n",
    "        self.categories = categories\n",
    "        self.dtype = dtype\n",
    "        self.handle_unknown = handle_unknown\n",
    "\n",
    "    def fit(self, X, y=None):\n",
    "\n",
    "        if self.encoding not in ['onehot', 'onehot-dense', 'ordinal']:\n",
    "            template = (\"encoding should be either 'onehot', 'onehot-dense' \"\n",
    "                        \"or 'ordinal', got %s\")\n",
    "            raise ValueError(template % self.handle_unknown)\n",
    "\n",
    "        if self.handle_unknown not in ['error', 'ignore']:\n",
    "            template = (\"handle_unknown should be either 'error' or \"\n",
    "                        \"'ignore', got %s\")\n",
    "            raise ValueError(template % self.handle_unknown)\n",
    "\n",
    "        if self.encoding == 'ordinal' and self.handle_unknown == 'ignore':\n",
    "            raise ValueError(\"handle_unknown='ignore' is not supported for\"\n",
    "                             \" encoding='ordinal'\")\n",
    "\n",
    "        X = check_array(X, dtype=np.object, accept_sparse='csc', copy=True)\n",
    "        n_samples, n_features = X.shape\n",
    "\n",
    "        self._label_encoders_ = [LabelEncoder() for _ in range(n_features)]\n",
    "\n",
    "        for i in range(n_features):\n",
    "            le = self._label_encoders_[i]\n",
    "            Xi = X[:, i]\n",
    "            if self.categories == 'auto':\n",
    "                le.fit(Xi)\n",
    "            else:\n",
    "                valid_mask = np.in1d(Xi, self.categories[i])\n",
    "                if not np.all(valid_mask):\n",
    "                    if self.handle_unknown == 'error':\n",
    "                        diff = np.unique(Xi[~valid_mask])\n",
    "                        msg = (\"Found unknown categories {0} in column {1}\"\n",
    "                               \" during fit\".format(diff, i))\n",
    "                        raise ValueError(msg)\n",
    "                le.classes_ = np.array(np.sort(self.categories[i]))\n",
    "\n",
    "        self.categories_ = [le.classes_ for le in self._label_encoders_]\n",
    "\n",
    "        return self\n",
    "\n",
    "    def transform(self, X):\n",
    "        X = check_array(X, accept_sparse='csc', dtype=np.object, copy=True)\n",
    "        n_samples, n_features = X.shape\n",
    "        X_int = np.zeros_like(X, dtype=np.int)\n",
    "        X_mask = np.ones_like(X, dtype=np.bool)\n",
    "\n",
    "        for i in range(n_features):\n",
    "            valid_mask = np.in1d(X[:, i], self.categories_[i])\n",
    "\n",
    "            if not np.all(valid_mask):\n",
    "                if self.handle_unknown == 'error':\n",
    "                    diff = np.unique(X[~valid_mask, i])\n",
    "                    msg = (\"Found unknown categories {0} in column {1}\"\n",
    "                           \" during transform\".format(diff, i))\n",
    "                    raise ValueError(msg)\n",
    "                else:\n",
    "                    X_mask[:, i] = valid_mask\n",
    "                    X[:, i][~valid_mask] = self.categories_[i][0]\n",
    "            X_int[:, i] = self._label_encoders_[i].transform(X[:, i])\n",
    "\n",
    "        if self.encoding == 'ordinal':\n",
    "            return X_int.astype(self.dtype, copy=False)\n",
    "\n",
    "        mask = X_mask.ravel()\n",
    "        n_values = [cats.shape[0] for cats in self.categories_]\n",
    "        n_values = np.array([0] + n_values)\n",
    "        indices = np.cumsum(n_values)\n",
    "\n",
    "        column_indices = (X_int + indices[:-1]).ravel()[mask]\n",
    "        row_indices = np.repeat(np.arange(n_samples, dtype=np.int32),\n",
    "                                n_features)[mask]\n",
    "        data = np.ones(n_samples * n_features)[mask]\n",
    "\n",
    "        out = sparse.csc_matrix((data, (row_indices, column_indices)),\n",
    "                                shape=(n_samples, indices[-1]),\n",
    "                                dtype=self.dtype).tocsr()\n",
    "        if self.encoding == 'onehot-dense':\n",
    "            return out.toarray()\n",
    "        else:\n",
    "            return out\n",
    "        \n",
    "class DataFrameSelector(BaseEstimator,TransformerMixin):\n",
    "    def __init__(self,feature_names):\n",
    "        self.feature_names = feature_names\n",
    "    def fit(self,X,y=None):\n",
    "        return self\n",
    "    def transform(self,X):\n",
    "        return X[self.feature_names].values\n",
    "    \n",
    "\n",
    "# build pipelines\n",
    "cat_attribs = ['ocean_proximity']\n",
    "num_attribs = list(housing_num)\n",
    "\n",
    "num_pipeline = Pipeline([\n",
    "               ('selector',DataFrameSelector(num_attribs)),      \n",
    "               ('robust_scaler',RobustScaler()), \n",
    "                ]) \n",
    "\n",
    "# build categorical pipeline\n",
    "cat_pipeline = Pipeline([\n",
    "                  ('selector',DataFrameSelector(cat_attribs)),\n",
    "                  ('cat_encoder',CategoricalEncoder(encoding='onehot-dense')),\n",
    "              ])\n",
    "\n",
    "\n",
    "# concatenate all the transforms using \"FeatureUnion\"\n",
    "pipelines = FeatureUnion(transformer_list=\n",
    "                             [ \n",
    "                              ('num_pipeline',num_pipeline),\n",
    "                              ('cat_pipeline',cat_pipeline),\n",
    "                             ])"
   ]
  },
  {
   "cell_type": "code",
   "execution_count": 42,
   "id": "1036d8b5-1e45-4adb-969c-d39238b43aa5",
   "metadata": {},
   "outputs": [],
   "source": [
    "transformer = pipelines.fit(X_train)"
   ]
  },
  {
   "cell_type": "code",
   "execution_count": 43,
   "id": "c399cb2e-5186-41b8-84c4-dca71dbc5f78",
   "metadata": {},
   "outputs": [],
   "source": [
    "X_train_prepared = transformer.transform(X_train)\n",
    "X_test_prepared = transformer.transform(X_test)"
   ]
  },
  {
   "cell_type": "code",
   "execution_count": 44,
   "id": "72313ece-220f-43a1-81c4-f19b3f8558c8",
   "metadata": {},
   "outputs": [
    {
     "data": {
      "text/plain": [
       "(11272, 12)"
      ]
     },
     "execution_count": 44,
     "metadata": {},
     "output_type": "execute_result"
    }
   ],
   "source": [
    "X_train.shape"
   ]
  },
  {
   "cell_type": "code",
   "execution_count": 45,
   "id": "de678a41-2c2a-4b18-93c4-7a00dbe1ea38",
   "metadata": {},
   "outputs": [
    {
     "data": {
      "text/plain": [
       "(11272, 16)"
      ]
     },
     "execution_count": 45,
     "metadata": {},
     "output_type": "execute_result"
    }
   ],
   "source": [
    "X_train_prepared.shape"
   ]
  },
  {
   "cell_type": "code",
   "execution_count": 48,
   "id": "305b30a8-16e0-4f46-8d05-6ead924bcf8a",
   "metadata": {},
   "outputs": [
    {
     "data": {
      "text/plain": [
       "(2818, 16)"
      ]
     },
     "execution_count": 48,
     "metadata": {},
     "output_type": "execute_result"
    }
   ],
   "source": [
    "X_test_prepared.shape"
   ]
  },
  {
   "cell_type": "code",
   "execution_count": 49,
   "id": "de53e1d8-d4c5-4109-a4aa-e4d14489dede",
   "metadata": {},
   "outputs": [],
   "source": [
    "minY = np.min(y_train)\n",
    "maxY = np.max(y_train)\n",
    "\n",
    "y_train = (y_train-minY)/(maxY-minY)\n",
    "y_test = (y_test-minY)/(maxY-minY)"
   ]
  },
  {
   "cell_type": "code",
   "execution_count": 50,
   "id": "adff0674-63f3-495d-a917-c55bf69707ad",
   "metadata": {},
   "outputs": [
    {
     "name": "stdout",
     "output_type": "stream",
     "text": [
      "0.044929536090999526\n",
      "1.0004937040392397\n"
     ]
    }
   ],
   "source": [
    "print(np.min(y_test))\n",
    "print(np.max(y_test))"
   ]
  },
  {
   "cell_type": "code",
   "execution_count": 51,
   "id": "56e630ef-ec07-44d6-9ff6-3b9695a9d39d",
   "metadata": {},
   "outputs": [],
   "source": [
    "np.savetxt('california_inputs_train.csv', X_train_prepared, delimiter=\",\")\n",
    "np.savetxt('california_outputs_train.csv', y_train, delimiter=\",\")\n",
    "np.savetxt('california_inputs_test.csv', X_test_prepared, delimiter=\",\")\n",
    "np.savetxt('california_outputs_test.csv', y_test, delimiter=\",\")"
   ]
  },
  {
   "cell_type": "code",
   "execution_count": null,
   "id": "91cb3815-2756-4d83-8e4c-f3753d885f9b",
   "metadata": {},
   "outputs": [],
   "source": []
  }
 ],
 "metadata": {
  "kernelspec": {
   "display_name": "Python 3.8.5 64-bit",
   "language": "python",
   "name": "python38564bite11b13aeaeb449e88bdceb09d5ade3c6"
  },
  "language_info": {
   "codemirror_mode": {
    "name": "ipython",
    "version": 3
   },
   "file_extension": ".py",
   "mimetype": "text/x-python",
   "name": "python",
   "nbconvert_exporter": "python",
   "pygments_lexer": "ipython3",
   "version": "3.8.10"
  }
 },
 "nbformat": 4,
 "nbformat_minor": 5
}
